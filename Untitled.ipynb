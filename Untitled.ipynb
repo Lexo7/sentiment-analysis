{
 "cells": [
  {
   "cell_type": "markdown",
   "id": "armed-tribune",
   "metadata": {},
   "source": [
    "## Install Tweepy"
   ]
  },
  {
   "cell_type": "code",
   "execution_count": 1,
   "id": "mobile-invention",
   "metadata": {},
   "outputs": [
    {
     "name": "stdout",
     "output_type": "stream",
     "text": [
      "Requirement already satisfied: tweepy in c:\\users\\user\\anaconda3\\lib\\site-packages (4.10.0)\n",
      "Requirement already satisfied: oauthlib<4,>=3.2.0 in c:\\users\\user\\anaconda3\\lib\\site-packages (from tweepy) (3.2.0)\n",
      "Requirement already satisfied: requests<3,>=2.27.0 in c:\\users\\user\\anaconda3\\lib\\site-packages (from tweepy) (2.28.1)\n",
      "Requirement already satisfied: requests-oauthlib<2,>=1.2.0 in c:\\users\\user\\anaconda3\\lib\\site-packages (from tweepy) (1.3.0)\n",
      "Requirement already satisfied: certifi>=2017.4.17 in c:\\users\\user\\anaconda3\\lib\\site-packages (from requests<3,>=2.27.0->tweepy) (2021.10.8)\n",
      "Requirement already satisfied: idna<4,>=2.5 in c:\\users\\user\\anaconda3\\lib\\site-packages (from requests<3,>=2.27.0->tweepy) (2.10)\n",
      "Requirement already satisfied: charset-normalizer<3,>=2 in c:\\users\\user\\anaconda3\\lib\\site-packages (from requests<3,>=2.27.0->tweepy) (2.1.0)\n",
      "Requirement already satisfied: urllib3<1.27,>=1.21.1 in c:\\users\\user\\anaconda3\\lib\\site-packages (from requests<3,>=2.27.0->tweepy) (1.26.3)\n"
     ]
    }
   ],
   "source": [
    "!pip install tweepy"
   ]
  },
  {
   "cell_type": "markdown",
   "id": "greatest-rendering",
   "metadata": {},
   "source": [
    "## Import Packages"
   ]
  },
  {
   "cell_type": "code",
   "execution_count": 2,
   "id": "mexican-whole",
   "metadata": {},
   "outputs": [],
   "source": [
    "import tweepy\n",
    "import pandas as pd"
   ]
  },
  {
   "cell_type": "markdown",
   "id": "paperback-vietnam",
   "metadata": {},
   "source": [
    "## Set up Authentication"
   ]
  },
  {
   "cell_type": "code",
   "execution_count": 3,
   "id": "informative-express",
   "metadata": {},
   "outputs": [],
   "source": [
    "#NB: ALL KEYS SHOWN HERE HAVE BEEN RESET BEFORE THIS FILE WAS PUSHED TO GITHUB\n",
    "\n",
    "# Authentication\n",
    "Api_Key = 'Sg4TVDTWeWeMcHCVnKIvpZeHg'\n",
    "Api_Secret = 'NK4qt9xG9oMl0oQDsW9takyUagopPg1Yfie18KbaSB2VAWLcjx'\n",
    "accessToken = '1163205965245800453-9udTc4rrQcD8QV8LCPzWadprq3Azt2'\n",
    "accessTokenSecret = 'vuvrXIk60mnJg4AZ1LzHYIstsvfrFZ4W1kZOIgOnsvE2J'\n",
    "BearerToken = 'AAAAAAAAAAAAAAAAAAAAAC1gegEAAAAAIJZ6Uf84k%2BgKbYQm6AcbIfy79Dc%3Dp6773lICTTBzWBoDzZNDji7mGtog1Pr2Llk0v9WpWQCXYvzKXF'\n",
    "\n",
    "auth = tweepy.OAuthHandler(Api_Key, Api_Secret)\n",
    "auth.set_access_token(accessToken, accessTokenSecret)\n",
    "\n",
    "# Create a client instance\n",
    "client = tweepy.Client(bearer_token=BearerToken)"
   ]
  },
  {
   "cell_type": "markdown",
   "id": "chemical-residence",
   "metadata": {},
   "source": [
    "## Perform Basic Tweets Search"
   ]
  },
  {
   "cell_type": "code",
   "execution_count": 10,
   "id": "aboriginal-array",
   "metadata": {},
   "outputs": [],
   "source": [
    "# Set up the query parameter\n",
    "query = \"Nancy Pelosi Taiwan -is:retweet\""
   ]
  },
  {
   "cell_type": "code",
   "execution_count": 11,
   "id": "focal-prospect",
   "metadata": {},
   "outputs": [],
   "source": [
    "# Initial Tweet Search Query\n",
    "Data = client.search_recent_tweets(query=query)"
   ]
  },
  {
   "cell_type": "code",
   "execution_count": 12,
   "id": "proper-cisco",
   "metadata": {},
   "outputs": [
    {
     "data": {
      "text/plain": [
       "Response(data=[<Tweet id=1555407965447852033 text=\"Nancy Pelosi's Asian tour is getting more and more tragicomic.\\nAfter Taiwan, she visited South Korea. And then the local authorities tried to do everything in order not to anger China..#Bayraktar #donatebayraktar #China #Taiwan https://t.co/2xyTi8vS5k\">, <Tweet id=1555407742843514881 text='Um, so did Taiwan *ask* for a visit from Nancy Pelosi ?'>, <Tweet id=1555407720169508864 text='Nancy Pelosi leaving Taiwan!  https://t.co/ECbZcUbq0k'>, <Tweet id=1555407594512154624 text='Chinese leaders condemn Nancy Pelosi for historic Taiwan visit  USA TODAY. Visit this website for more. ----&gt;https://t.co/EsHbIIaL6C #SatoriniChallenge #bikini #BugsBunnyChallenge #snowchallenge #tiktok #silhouettechallenge #Bussitchallenge #Jamaica #Jamaican https://t.co/Jxj7i6Txw9'>, <Tweet id=1555407581363011586 text='Nancy Pelosi Visits Taiwan Amid Tension With China. Visit this website for more -----&gt;https://t.co/uElMu4S6K4 #SatoriniChallenge #bikini #BugsBunnyChallenge #snowchallenge #tiktok #silhouettechallenge #Bussitchallenge #Jamaica #Jamaican https://t.co/BJjI5HpFFB'>, <Tweet id=1555407498923986944 text='U.S. House Speaker Nancy Pelosi said Friday that China will not isolate Taiwan by preventing U.S. officials from traveling there. https://t.co/4tJ4SqYkY4'>, <Tweet id=1555407496986370048 text='LIVE update | Nancy Pelosi slams China during Japan visit | PLA conducts military drills near Taiwan\\n\\nLIVE update | Nancy Pelosi slams China during Japan visit | PLA conducts military drills near Taiwan  @wionews https://t.co/kDkmezttO3'>, <Tweet id=1555407456444026881 text='Watch: Nancy Pelosi gives first news conference in aftermath of Taiwan\\xa0trip https://t.co/DHm3Gf55gu'>, <Tweet id=1555407406326218753 text='Glad \\u2066@SpeakerPelosi\\u2069 went to Taiwan https://t.co/1ht8ENcYiy'>, <Tweet id=1555407389536313345 text='\"US House Speaker Nancy Pelosi said Friday that China will not isolate Taiwan by preventing US officials from traveling there\"\\n#NancyPelosi #Taiwan\\nhttps://t.co/WNIIbD5GPL'>], includes={}, errors=[], meta={'newest_id': '1555407965447852033', 'oldest_id': '1555407389536313345', 'result_count': 10, 'next_token': 'b26v89c19zqg8o3fpz5m82z6v88qzf8syirk7rm7dd8jh'})"
      ]
     },
     "execution_count": 12,
     "metadata": {},
     "output_type": "execute_result"
    }
   ],
   "source": [
    "# View tweets\n",
    "Data"
   ]
  },
  {
   "cell_type": "code",
   "execution_count": 13,
   "id": "electric-argentina",
   "metadata": {},
   "outputs": [
    {
     "name": "stdout",
     "output_type": "stream",
     "text": [
      "1555407965447852033  :  Nancy Pelosi's Asian tour is getting more and more tragicomic.\n",
      "After Taiwan, she visited South Korea. And then the local authorities tried to do everything in order not to anger China..#Bayraktar #donatebayraktar #China #Taiwan https://t.co/2xyTi8vS5k\n",
      "\n",
      "1555407742843514881  :  Um, so did Taiwan *ask* for a visit from Nancy Pelosi ?\n",
      "\n",
      "1555407720169508864  :  Nancy Pelosi leaving Taiwan!  https://t.co/ECbZcUbq0k\n",
      "\n",
      "1555407594512154624  :  Chinese leaders condemn Nancy Pelosi for historic Taiwan visit  USA TODAY. Visit this website for more. ----&gt;https://t.co/EsHbIIaL6C #SatoriniChallenge #bikini #BugsBunnyChallenge #snowchallenge #tiktok #silhouettechallenge #Bussitchallenge #Jamaica #Jamaican https://t.co/Jxj7i6Txw9\n",
      "\n",
      "1555407581363011586  :  Nancy Pelosi Visits Taiwan Amid Tension With China. Visit this website for more -----&gt;https://t.co/uElMu4S6K4 #SatoriniChallenge #bikini #BugsBunnyChallenge #snowchallenge #tiktok #silhouettechallenge #Bussitchallenge #Jamaica #Jamaican https://t.co/BJjI5HpFFB\n",
      "\n",
      "1555407498923986944  :  U.S. House Speaker Nancy Pelosi said Friday that China will not isolate Taiwan by preventing U.S. officials from traveling there. https://t.co/4tJ4SqYkY4\n",
      "\n",
      "1555407496986370048  :  LIVE update | Nancy Pelosi slams China during Japan visit | PLA conducts military drills near Taiwan\n",
      "\n",
      "LIVE update | Nancy Pelosi slams China during Japan visit | PLA conducts military drills near Taiwan  @wionews https://t.co/kDkmezttO3\n",
      "\n",
      "1555407456444026881  :  Watch: Nancy Pelosi gives first news conference in aftermath of Taiwan trip https://t.co/DHm3Gf55gu\n",
      "\n",
      "1555407406326218753  :  Glad ⁦@SpeakerPelosi⁩ went to Taiwan https://t.co/1ht8ENcYiy\n",
      "\n",
      "1555407389536313345  :  \"US House Speaker Nancy Pelosi said Friday that China will not isolate Taiwan by preventing US officials from traveling there\"\n",
      "#NancyPelosi #Taiwan\n",
      "https://t.co/WNIIbD5GPL\n",
      "\n"
     ]
    }
   ],
   "source": [
    "# Printing out each tweet ID and it's corresponding text.\n",
    "for tweet in Data.data:\n",
    "    print(tweet.id, ' : ', tweet.text)\n",
    "    print()"
   ]
  },
  {
   "cell_type": "markdown",
   "id": "sudden-dominican",
   "metadata": {},
   "source": [
    "## Find Tweet Language and Time of Tweet"
   ]
  },
  {
   "cell_type": "code",
   "execution_count": 14,
   "id": "broad-economy",
   "metadata": {},
   "outputs": [],
   "source": [
    "# Access additional tweet fields\n",
    "Data = client.search_recent_tweets(query=query, tweet_fields=['lang', 'created_at'])"
   ]
  },
  {
   "cell_type": "code",
   "execution_count": 15,
   "id": "indirect-monster",
   "metadata": {},
   "outputs": [
    {
     "data": {
      "text/plain": [
       "Response(data=[<Tweet id=1555407965447852033 text=\"Nancy Pelosi's Asian tour is getting more and more tragicomic.\\nAfter Taiwan, she visited South Korea. And then the local authorities tried to do everything in order not to anger China..#Bayraktar #donatebayraktar #China #Taiwan https://t.co/2xyTi8vS5k\">, <Tweet id=1555407742843514881 text='Um, so did Taiwan *ask* for a visit from Nancy Pelosi ?'>, <Tweet id=1555407720169508864 text='Nancy Pelosi leaving Taiwan!  https://t.co/ECbZcUbq0k'>, <Tweet id=1555407594512154624 text='Chinese leaders condemn Nancy Pelosi for historic Taiwan visit  USA TODAY. Visit this website for more. ----&gt;https://t.co/EsHbIIaL6C #SatoriniChallenge #bikini #BugsBunnyChallenge #snowchallenge #tiktok #silhouettechallenge #Bussitchallenge #Jamaica #Jamaican https://t.co/Jxj7i6Txw9'>, <Tweet id=1555407581363011586 text='Nancy Pelosi Visits Taiwan Amid Tension With China. Visit this website for more -----&gt;https://t.co/uElMu4S6K4 #SatoriniChallenge #bikini #BugsBunnyChallenge #snowchallenge #tiktok #silhouettechallenge #Bussitchallenge #Jamaica #Jamaican https://t.co/BJjI5HpFFB'>, <Tweet id=1555407498923986944 text='U.S. House Speaker Nancy Pelosi said Friday that China will not isolate Taiwan by preventing U.S. officials from traveling there. https://t.co/4tJ4SqYkY4'>, <Tweet id=1555407496986370048 text='LIVE update | Nancy Pelosi slams China during Japan visit | PLA conducts military drills near Taiwan\\n\\nLIVE update | Nancy Pelosi slams China during Japan visit | PLA conducts military drills near Taiwan  @wionews https://t.co/kDkmezttO3'>, <Tweet id=1555407456444026881 text='Watch: Nancy Pelosi gives first news conference in aftermath of Taiwan\\xa0trip https://t.co/DHm3Gf55gu'>, <Tweet id=1555407406326218753 text='Glad \\u2066@SpeakerPelosi\\u2069 went to Taiwan https://t.co/1ht8ENcYiy'>, <Tweet id=1555407389536313345 text='\"US House Speaker Nancy Pelosi said Friday that China will not isolate Taiwan by preventing US officials from traveling there\"\\n#NancyPelosi #Taiwan\\nhttps://t.co/WNIIbD5GPL'>], includes={}, errors=[], meta={'newest_id': '1555407965447852033', 'oldest_id': '1555407389536313345', 'result_count': 10, 'next_token': 'b26v89c19zqg8o3fpz5m82z6v88qzf8syirk7rm7dd8jh'})"
      ]
     },
     "execution_count": 15,
     "metadata": {},
     "output_type": "execute_result"
    }
   ],
   "source": [
    "#View the Data\n",
    "Data"
   ]
  },
  {
   "cell_type": "code",
   "execution_count": 16,
   "id": "absolute-witness",
   "metadata": {},
   "outputs": [
    {
     "name": "stdout",
     "output_type": "stream",
     "text": [
      "en\n",
      "2022-08-05 04:18:51+00:00\n",
      "en\n",
      "2022-08-05 04:17:58+00:00\n",
      "tl\n",
      "2022-08-05 04:17:53+00:00\n",
      "en\n",
      "2022-08-05 04:17:23+00:00\n",
      "en\n",
      "2022-08-05 04:17:20+00:00\n",
      "en\n",
      "2022-08-05 04:17:00+00:00\n",
      "en\n",
      "2022-08-05 04:17:00+00:00\n",
      "en\n",
      "2022-08-05 04:16:50+00:00\n",
      "en\n",
      "2022-08-05 04:16:38+00:00\n",
      "en\n",
      "2022-08-05 04:16:34+00:00\n"
     ]
    }
   ],
   "source": [
    "# View the extra tweet fields\n",
    "for tweet in Data.data:\n",
    "    print(tweet.lang)\n",
    "    print(tweet.created_at)"
   ]
  },
  {
   "cell_type": "markdown",
   "id": "moved-primary",
   "metadata": {},
   "source": [
    "## Get User Data - User ID, Name and Username"
   ]
  },
  {
   "cell_type": "code",
   "execution_count": 17,
   "id": "optimum-bride",
   "metadata": {},
   "outputs": [],
   "source": [
    "# Access additional tweet fields\n",
    "Data = client.search_recent_tweets(query=query, tweet_fields=['lang', 'created_at'], expansions=['author_id'])"
   ]
  },
  {
   "cell_type": "code",
   "execution_count": 18,
   "id": "material-vietnamese",
   "metadata": {},
   "outputs": [
    {
     "data": {
      "text/plain": [
       "[<User id=1606908458 name=StrangeVeronica username=queenofvision>,\n",
       " <User id=1090606091061420032 name=BRISL username=BRI_SL>,\n",
       " <User id=27076961 name=Aspie for peace! username=timmins316>,\n",
       " <User id=1457869861414080512 name=Beijing Evening News username=BeijingEvening>,\n",
       " <User id=1330100564961660929 name=TIMES18 username=TIMES18News>,\n",
       " <User id=17169453 name=Le Soir username=lesoir>,\n",
       " <User id=1045066452984889345 name=Free Trade Europa username=TradeEuropa>,\n",
       " <User id=1268144739997503493 name=Beijing Daily username=DailyBeijing>,\n",
       " <User id=1501504289939808256 name=Gianluca username=Gianl1974>,\n",
       " <User id=1517429509867569152 name=Taiwan & Rising S Company 🇺🇸🇹🇼🇺🇦 username=RisingSC_taiwan>]"
      ]
     },
     "execution_count": 18,
     "metadata": {},
     "output_type": "execute_result"
    }
   ],
   "source": [
    "# Get all users\n",
    "Users = Data.includes['users']\n",
    "Users"
   ]
  },
  {
   "cell_type": "code",
   "execution_count": 19,
   "id": "metallic-testament",
   "metadata": {},
   "outputs": [
    {
     "name": "stdout",
     "output_type": "stream",
     "text": [
      "1606908458\n",
      "StrangeVeronica\n",
      "queenofvision\n",
      "\n",
      "1090606091061420032\n",
      "BRISL\n",
      "BRI_SL\n",
      "\n",
      "27076961\n",
      "Aspie for peace!\n",
      "timmins316\n",
      "\n",
      "1457869861414080512\n",
      "Beijing Evening News\n",
      "BeijingEvening\n",
      "\n",
      "1330100564961660929\n",
      "TIMES18\n",
      "TIMES18News\n",
      "\n",
      "17169453\n",
      "Le Soir\n",
      "lesoir\n",
      "\n",
      "1045066452984889345\n",
      "Free Trade Europa\n",
      "TradeEuropa\n",
      "\n",
      "1268144739997503493\n",
      "Beijing Daily\n",
      "DailyBeijing\n",
      "\n",
      "1501504289939808256\n",
      "Gianluca\n",
      "Gianl1974\n",
      "\n",
      "1517429509867569152\n",
      "Taiwan & Rising S Company 🇺🇸🇹🇼🇺🇦\n",
      "RisingSC_taiwan\n",
      "\n"
     ]
    }
   ],
   "source": [
    "# View User details\n",
    "for user in Users:\n",
    "    print(user.id)\n",
    "    print(user.name)\n",
    "    print(user.username)\n",
    "    print()"
   ]
  },
  {
   "cell_type": "markdown",
   "id": "bibliographic-boston",
   "metadata": {},
   "source": [
    "## Get Additional User Data - Profile Image "
   ]
  },
  {
   "cell_type": "code",
   "execution_count": 20,
   "id": "above-economy",
   "metadata": {},
   "outputs": [],
   "source": [
    "# Access additional tweet fields\n",
    "Data = client.search_recent_tweets(query=query, tweet_fields=['lang', 'created_at'], expansions=['author_id'], user_fields=['profile_image_url'])"
   ]
  },
  {
   "cell_type": "code",
   "execution_count": 21,
   "id": "distributed-flesh",
   "metadata": {},
   "outputs": [
    {
     "data": {
      "text/plain": [
       "[<User id=1546323721 name=Jim Gilbert-Walsh username=jgilberw>,\n",
       " <User id=1181481640532406272 name=Abhishek Puri username=radoncnotes>,\n",
       " <User id=978420326647435264 name=春暖花开 username=yaj70>,\n",
       " <User id=1493497252257890304 name=Not so Monumental Mason. username=ChrisMa69746561>,\n",
       " <User id=1495971850199117827 name=GENERAL TOM S. GATES, US Marine Corps ★ 🦅🇺🇸🇺🇸 username=GatesMarinesNet>,\n",
       " <User id=1091427224991879168 name=tpham 🇺🇲🌊🚀 username=tpham26863223>,\n",
       " <User id=1534619303789867009 name=🌬️🌊👑Ꭺ𝙰ʀyᴀɴ🔱ᴍᴇᴇɴᴀ👑🌊💨 username=AaryanM15931768>,\n",
       " <User id=1606908458 name=StrangeVeronica username=queenofvision>,\n",
       " <User id=1090606091061420032 name=BRISL username=BRI_SL>,\n",
       " <User id=27076961 name=Aspie for peace! username=timmins316>]"
      ]
     },
     "execution_count": 21,
     "metadata": {},
     "output_type": "execute_result"
    }
   ],
   "source": [
    "# Get all users\n",
    "Users = Data.includes['users']\n",
    "Users"
   ]
  },
  {
   "cell_type": "code",
   "execution_count": 22,
   "id": "beautiful-cassette",
   "metadata": {},
   "outputs": [
    {
     "name": "stdout",
     "output_type": "stream",
     "text": [
      "https://pbs.twimg.com/profile_images/1067238289449590784/ZX8ggcNK_normal.jpg\n",
      "https://pbs.twimg.com/profile_images/1554018948420579328/BZrQKoG-_normal.jpg\n",
      "https://pbs.twimg.com/profile_images/1443803294778994689/PZFpm_cW_normal.jpg\n",
      "https://pbs.twimg.com/profile_images/1493497385750007808/sZ57owef_normal.png\n",
      "https://pbs.twimg.com/profile_images/1555194974748442626/SJrxAgLs_normal.jpg\n",
      "https://pbs.twimg.com/profile_images/1106015835234066433/DFIqAQlc_normal.png\n",
      "https://pbs.twimg.com/profile_images/1538419771862970368/_hI_H2Bb_normal.jpg\n",
      "https://pbs.twimg.com/profile_images/1423972497968418818/sRSvNSRQ_normal.jpg\n",
      "https://pbs.twimg.com/profile_images/1258724132960833536/TlHfo-Y__normal.jpg\n",
      "https://pbs.twimg.com/profile_images/1457187584518639626/Zt5htyPz_normal.jpg\n"
     ]
    }
   ],
   "source": [
    "# Get additional user data\n",
    "for user in Users:\n",
    "    print(user.profile_image_url)"
   ]
  },
  {
   "cell_type": "markdown",
   "id": "sharing-pride",
   "metadata": {},
   "source": [
    "## Putting it all together"
   ]
  },
  {
   "cell_type": "code",
   "execution_count": 23,
   "id": "convertible-shareware",
   "metadata": {},
   "outputs": [
    {
     "name": "stdout",
     "output_type": "stream",
     "text": [
      "Empty DataFrame\n",
      "Columns: [User_ID, Name, Username, Profile_image, Tweet_ID, Tweet_Date, Tweet_lang, Tweet_text]\n",
      "Index: []\n"
     ]
    }
   ],
   "source": [
    "# Create an empty dataframe\n",
    "tweetData = pd.DataFrame(columns = ['User_ID','Name', 'Username', 'Profile_image', 'Tweet_ID', 'Tweet_Date', 'Tweet_lang', 'Tweet_text'])\n",
    "print(tweetData)"
   ]
  },
  {
   "cell_type": "code",
   "execution_count": 24,
   "id": "infectious-diameter",
   "metadata": {},
   "outputs": [
    {
     "name": "stdout",
     "output_type": "stream",
     "text": [
      "10\n",
      "10\n"
     ]
    }
   ],
   "source": [
    "# Include users and view number of tweets against number of users identified\n",
    "newUsers = Data.includes['users']\n",
    "print(len(Data.data))\n",
    "print(len(newUsers))"
   ]
  },
  {
   "cell_type": "code",
   "execution_count": 45,
   "id": "quantitative-device",
   "metadata": {},
   "outputs": [
    {
     "data": {
      "text/plain": [
       "'en'"
      ]
     },
     "execution_count": 45,
     "metadata": {},
     "output_type": "execute_result"
    }
   ],
   "source": [
    "# View tweets data\n",
    "Data[0][0].lang"
   ]
  },
  {
   "cell_type": "code",
   "execution_count": 41,
   "id": "electronic-butler",
   "metadata": {},
   "outputs": [
    {
     "data": {
      "text/plain": [
       "'Jim Gilbert-Walsh'"
      ]
     },
     "execution_count": 41,
     "metadata": {},
     "output_type": "execute_result"
    }
   ],
   "source": [
    "### View the new users\n",
    "newUsers[0].name"
   ]
  },
  {
   "cell_type": "code",
   "execution_count": 47,
   "id": "cheap-graphics",
   "metadata": {},
   "outputs": [],
   "source": [
    "# Initialize dictionary to hold user details\n",
    "userDetails = {\n",
    "    'User_ID':'',\n",
    "    'Name':'',\n",
    "    'Username':'',\n",
    "    'Profile_image':'',\n",
    "    'Tweet_ID':'',\n",
    "    'Tweet_Date':'',\n",
    "    'Tweet_lang':'',\n",
    "    'Tweet_text':''\n",
    "}"
   ]
  },
  {
   "cell_type": "code",
   "execution_count": 48,
   "id": "close-forty",
   "metadata": {},
   "outputs": [
    {
     "name": "stdout",
     "output_type": "stream",
     "text": [
      "10\n"
     ]
    }
   ],
   "source": [
    "print(len(Data.data))"
   ]
  },
  {
   "cell_type": "code",
   "execution_count": 49,
   "id": "limiting-tumor",
   "metadata": {},
   "outputs": [
    {
     "name": "stdout",
     "output_type": "stream",
     "text": [
      "{'User_ID': 1546323721, 'Name': 'Jim Gilbert-Walsh', 'Username': 'jgilberw', 'Profile_image': 'https://pbs.twimg.com/profile_images/1067238289449590784/ZX8ggcNK_normal.jpg', 'Tweet_ID': 1555409174443458560, 'Tweet_Date': datetime.datetime(2022, 8, 5, 4, 23, 39, tzinfo=datetime.timezone.utc), 'Tweet_lang': 'en', 'Tweet_text': '@rayytseng @6costello5 @marwilliamson @SpeakerPelosi This is a false dichotomy.  One can be in favour of the \"self-determination of the Taiwanese people\" without defending the US as some benevolent intervener.  https://t.co/6R0cZSOdzV'}\n",
      "\n",
      "{'User_ID': 1181481640532406272, 'Name': 'Abhishek Puri', 'Username': 'radoncnotes', 'Profile_image': 'https://pbs.twimg.com/profile_images/1554018948420579328/BZrQKoG-_normal.jpg', 'Tweet_ID': 1555409099810037761, 'Tweet_Date': datetime.datetime(2022, 8, 5, 4, 23, 22, tzinfo=datetime.timezone.utc), 'Tweet_lang': 'en', 'Tweet_text': '\"Perils of Preaching Nationalism Play Out on Chinese Social Media\" by Li Yuan via #NYT #read https://t.co/wUx4xjxXXz'}\n",
      "\n",
      "{'User_ID': 978420326647435264, 'Name': '春暖花开', 'Username': 'yaj70', 'Profile_image': 'https://pbs.twimg.com/profile_images/1443803294778994689/PZFpm_cW_normal.jpg', 'Tweet_ID': 1555408979169345537, 'Tweet_Date': datetime.datetime(2022, 8, 5, 4, 22, 53, tzinfo=datetime.timezone.utc), 'Tweet_lang': 'en', 'Tweet_text': \"I am the first one to tell the world that the US, Australia, and Japan very much want the CCP to start the war. Because they are very clear that if they don't take down the CCP, they will be destroyed by the CCP instead; Nancy Pelosi's visit to Taiwan is backed by the bipartisan https://t.co/hn8L0BUWMj\"}\n",
      "\n",
      "{'User_ID': 1493497252257890304, 'Name': 'Not so Monumental Mason.', 'Username': 'ChrisMa69746561', 'Profile_image': 'https://pbs.twimg.com/profile_images/1493497385750007808/sZ57owef_normal.png', 'Tweet_ID': 1555408904750002176, 'Tweet_Date': datetime.datetime(2022, 8, 5, 4, 22, 35, tzinfo=datetime.timezone.utc), 'Tweet_lang': 'en', 'Tweet_text': 'Does anyone know why the Chinese Govnmt is getting its knickers in such a knot over Nancy Pelosi’s visit to Taiwan? Is it just a trigger to invade the country? Would a visit by our Speaker Milton Dick cause outrage? 🤷\\u200d♂️'}\n",
      "\n",
      "{'User_ID': 1495971850199117827, 'Name': 'GENERAL TOM S. GATES, US Marine Corps ★ 🦅🇺🇸🇺🇸', 'Username': 'GatesMarinesNet', 'Profile_image': 'https://pbs.twimg.com/profile_images/1555194974748442626/SJrxAgLs_normal.jpg', 'Tweet_ID': 1555408815881068544, 'Tweet_Date': datetime.datetime(2022, 8, 5, 4, 22, 14, tzinfo=datetime.timezone.utc), 'Tweet_lang': 'en', 'Tweet_text': 'Pelosi: Asian trip was never about changing status quo in Taiwan\\n\\nU.S. House of Representatives Speaker Nancy Pelosi said on Friday that her trip through Asia, which prompted an infuriated China to hold live-fire military drills in the waters off Taiwan,\\n\\n...1/2) https://t.co/7nbzDbYrTj'}\n",
      "\n",
      "{'User_ID': 1091427224991879168, 'Name': 'tpham 🇺🇲🌊🚀', 'Username': 'tpham26863223', 'Profile_image': 'https://pbs.twimg.com/profile_images/1106015835234066433/DFIqAQlc_normal.png', 'Tweet_ID': 1555408808758784000, 'Tweet_Date': datetime.datetime(2022, 8, 5, 4, 22, 12, tzinfo=datetime.timezone.utc), 'Tweet_lang': 'zxx', 'Tweet_text': 'https://t.co/srymulI87i'}\n",
      "\n",
      "{'User_ID': 1534619303789867009, 'Name': '🌬️🌊👑Ꭺ𝙰ʀyᴀɴ🔱ᴍᴇᴇɴᴀ👑🌊💨', 'Username': 'AaryanM15931768', 'Profile_image': 'https://pbs.twimg.com/profile_images/1538419771862970368/_hI_H2Bb_normal.jpg', 'Tweet_ID': 1555408662507683845, 'Tweet_Date': datetime.datetime(2022, 8, 5, 4, 21, 37, tzinfo=datetime.timezone.utc), 'Tweet_lang': 'hi', 'Tweet_text': 'नैंसी पेलोसी ने जापान में कहा कि अमेरिका चीन को इजाजत नहीं देगा कि वह ताइवान को अलग-थलग करे.\\n\\n#USA #NancyPelosi #Japan #Taiwan #China\\n\\nhttps://t.co/qFqvROBj4e'}\n",
      "\n",
      "{'User_ID': 1606908458, 'Name': 'StrangeVeronica', 'Username': 'queenofvision', 'Profile_image': 'https://pbs.twimg.com/profile_images/1423972497968418818/sRSvNSRQ_normal.jpg', 'Tweet_ID': 1555408562691575809, 'Tweet_Date': datetime.datetime(2022, 8, 5, 4, 21, 14, tzinfo=datetime.timezone.utc), 'Tweet_lang': 'en', 'Tweet_text': '@MarshaBlackburn Exactly what Nancy Pelosi said in Taiwan.\\n\\nBTW, why did you approve big pharma outsourcing our medications to China?'}\n",
      "\n",
      "{'User_ID': 1090606091061420032, 'Name': 'BRISL', 'Username': 'BRI_SL', 'Profile_image': 'https://pbs.twimg.com/profile_images/1258724132960833536/TlHfo-Y__normal.jpg', 'Tweet_ID': 1555408527241277443, 'Tweet_Date': datetime.datetime(2022, 8, 5, 4, 21, 5, tzinfo=datetime.timezone.utc), 'Tweet_lang': 'en', 'Tweet_text': 'The Communist Party of Sri Lanka, made a statement; “Condemn US Speaker Nancy Pelosi’s Illegal Visit to Taiwan” https://t.co/NL4ThW7FBT'}\n",
      "\n",
      "{'User_ID': 27076961, 'Name': 'Aspie for peace!', 'Username': 'timmins316', 'Profile_image': 'https://pbs.twimg.com/profile_images/1457187584518639626/Zt5htyPz_normal.jpg', 'Tweet_ID': 1555408403341758464, 'Tweet_Date': datetime.datetime(2022, 8, 5, 4, 20, 36, tzinfo=datetime.timezone.utc), 'Tweet_lang': 'zxx', 'Tweet_text': 'https://t.co/RtqELzX5cX'}\n",
      "\n"
     ]
    }
   ],
   "source": [
    "# Loop through each tweet and fish out the needed details\n",
    "for i in range(len(Data.data)):\n",
    "    userDetails['User_ID'] = newUsers[i].id\n",
    "    userDetails['Name'] = newUsers[i].name\n",
    "    userDetails['Username'] = newUsers[i].username\n",
    "    userDetails['Profile_image'] = newUsers[i].profile_image_url\n",
    "    userDetails['Tweet_ID'] = Data[0][i].id\n",
    "    userDetails['Tweet_Date'] = Data[0][i].created_at\n",
    "    userDetails['Tweet_lang'] = Data[0][i].lang\n",
    "    userDetails['Tweet_text'] = Data[0][i].text\n",
    "    \n",
    "    print(userDetails)\n",
    "    print()\n",
    "    tweetData = tweetData.append(userDetails, ignore_index=True)"
   ]
  },
  {
   "cell_type": "code",
   "execution_count": 50,
   "id": "formal-discipline",
   "metadata": {},
   "outputs": [
    {
     "data": {
      "text/html": [
       "<div>\n",
       "<style scoped>\n",
       "    .dataframe tbody tr th:only-of-type {\n",
       "        vertical-align: middle;\n",
       "    }\n",
       "\n",
       "    .dataframe tbody tr th {\n",
       "        vertical-align: top;\n",
       "    }\n",
       "\n",
       "    .dataframe thead th {\n",
       "        text-align: right;\n",
       "    }\n",
       "</style>\n",
       "<table border=\"1\" class=\"dataframe\">\n",
       "  <thead>\n",
       "    <tr style=\"text-align: right;\">\n",
       "      <th></th>\n",
       "      <th>User_ID</th>\n",
       "      <th>Name</th>\n",
       "      <th>Username</th>\n",
       "      <th>Profile_image</th>\n",
       "      <th>Tweet_ID</th>\n",
       "      <th>Tweet_Date</th>\n",
       "      <th>Tweet_lang</th>\n",
       "      <th>Tweet_text</th>\n",
       "    </tr>\n",
       "  </thead>\n",
       "  <tbody>\n",
       "    <tr>\n",
       "      <th>0</th>\n",
       "      <td>1546323721</td>\n",
       "      <td>Jim Gilbert-Walsh</td>\n",
       "      <td>jgilberw</td>\n",
       "      <td>https://pbs.twimg.com/profile_images/106723828...</td>\n",
       "      <td>1555409174443458560</td>\n",
       "      <td>2022-08-05 04:23:39+00:00</td>\n",
       "      <td>en</td>\n",
       "      <td>@rayytseng @6costello5 @marwilliamson @Speaker...</td>\n",
       "    </tr>\n",
       "    <tr>\n",
       "      <th>1</th>\n",
       "      <td>1181481640532406272</td>\n",
       "      <td>Abhishek Puri</td>\n",
       "      <td>radoncnotes</td>\n",
       "      <td>https://pbs.twimg.com/profile_images/155401894...</td>\n",
       "      <td>1555409099810037761</td>\n",
       "      <td>2022-08-05 04:23:22+00:00</td>\n",
       "      <td>en</td>\n",
       "      <td>\"Perils of Preaching Nationalism Play Out on C...</td>\n",
       "    </tr>\n",
       "    <tr>\n",
       "      <th>2</th>\n",
       "      <td>978420326647435264</td>\n",
       "      <td>春暖花开</td>\n",
       "      <td>yaj70</td>\n",
       "      <td>https://pbs.twimg.com/profile_images/144380329...</td>\n",
       "      <td>1555408979169345537</td>\n",
       "      <td>2022-08-05 04:22:53+00:00</td>\n",
       "      <td>en</td>\n",
       "      <td>I am the first one to tell the world that the ...</td>\n",
       "    </tr>\n",
       "    <tr>\n",
       "      <th>3</th>\n",
       "      <td>1493497252257890304</td>\n",
       "      <td>Not so Monumental Mason.</td>\n",
       "      <td>ChrisMa69746561</td>\n",
       "      <td>https://pbs.twimg.com/profile_images/149349738...</td>\n",
       "      <td>1555408904750002176</td>\n",
       "      <td>2022-08-05 04:22:35+00:00</td>\n",
       "      <td>en</td>\n",
       "      <td>Does anyone know why the Chinese Govnmt is get...</td>\n",
       "    </tr>\n",
       "    <tr>\n",
       "      <th>4</th>\n",
       "      <td>1495971850199117827</td>\n",
       "      <td>GENERAL TOM S. GATES, US Marine Corps ★ 🦅🇺🇸🇺🇸</td>\n",
       "      <td>GatesMarinesNet</td>\n",
       "      <td>https://pbs.twimg.com/profile_images/155519497...</td>\n",
       "      <td>1555408815881068544</td>\n",
       "      <td>2022-08-05 04:22:14+00:00</td>\n",
       "      <td>en</td>\n",
       "      <td>Pelosi: Asian trip was never about changing st...</td>\n",
       "    </tr>\n",
       "  </tbody>\n",
       "</table>\n",
       "</div>"
      ],
      "text/plain": [
       "               User_ID                                           Name  \\\n",
       "0           1546323721                              Jim Gilbert-Walsh   \n",
       "1  1181481640532406272                                  Abhishek Puri   \n",
       "2   978420326647435264                                           春暖花开   \n",
       "3  1493497252257890304                       Not so Monumental Mason.   \n",
       "4  1495971850199117827  GENERAL TOM S. GATES, US Marine Corps ★ 🦅🇺🇸🇺🇸   \n",
       "\n",
       "          Username                                      Profile_image  \\\n",
       "0         jgilberw  https://pbs.twimg.com/profile_images/106723828...   \n",
       "1      radoncnotes  https://pbs.twimg.com/profile_images/155401894...   \n",
       "2            yaj70  https://pbs.twimg.com/profile_images/144380329...   \n",
       "3  ChrisMa69746561  https://pbs.twimg.com/profile_images/149349738...   \n",
       "4  GatesMarinesNet  https://pbs.twimg.com/profile_images/155519497...   \n",
       "\n",
       "              Tweet_ID                Tweet_Date Tweet_lang  \\\n",
       "0  1555409174443458560 2022-08-05 04:23:39+00:00         en   \n",
       "1  1555409099810037761 2022-08-05 04:23:22+00:00         en   \n",
       "2  1555408979169345537 2022-08-05 04:22:53+00:00         en   \n",
       "3  1555408904750002176 2022-08-05 04:22:35+00:00         en   \n",
       "4  1555408815881068544 2022-08-05 04:22:14+00:00         en   \n",
       "\n",
       "                                          Tweet_text  \n",
       "0  @rayytseng @6costello5 @marwilliamson @Speaker...  \n",
       "1  \"Perils of Preaching Nationalism Play Out on C...  \n",
       "2  I am the first one to tell the world that the ...  \n",
       "3  Does anyone know why the Chinese Govnmt is get...  \n",
       "4  Pelosi: Asian trip was never about changing st...  "
      ]
     },
     "execution_count": 50,
     "metadata": {},
     "output_type": "execute_result"
    }
   ],
   "source": [
    "# View dataframe\n",
    "tweetData.head()"
   ]
  },
  {
   "cell_type": "code",
   "execution_count": 51,
   "id": "elder-person",
   "metadata": {},
   "outputs": [
    {
     "name": "stdout",
     "output_type": "stream",
     "text": [
      "10\n"
     ]
    }
   ],
   "source": [
    "# View the length of the dataset.\n",
    "print(len(tweetData))"
   ]
  },
  {
   "cell_type": "code",
   "execution_count": 52,
   "id": "prospective-habitat",
   "metadata": {},
   "outputs": [],
   "source": [
    "# Save to csv file.\n",
    "tweetData.to_csv('Tweets.csv', index=True)"
   ]
  },
  {
   "cell_type": "code",
   "execution_count": null,
   "id": "conventional-responsibility",
   "metadata": {},
   "outputs": [],
   "source": []
  }
 ],
 "metadata": {
  "kernelspec": {
   "display_name": "Python 3",
   "language": "python",
   "name": "python3"
  },
  "language_info": {
   "codemirror_mode": {
    "name": "ipython",
    "version": 3
   },
   "file_extension": ".py",
   "mimetype": "text/x-python",
   "name": "python",
   "nbconvert_exporter": "python",
   "pygments_lexer": "ipython3",
   "version": "3.8.3"
  }
 },
 "nbformat": 4,
 "nbformat_minor": 5
}
